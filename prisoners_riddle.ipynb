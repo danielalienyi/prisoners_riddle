{
 "cells": [
  {
   "cell_type": "code",
   "execution_count": 1,
   "metadata": {},
   "outputs": [],
   "source": [
    "import random"
   ]
  },
  {
   "cell_type": "code",
   "execution_count": 5,
   "metadata": {},
   "outputs": [],
   "source": [
    "def getMaxGroupSize(prisonerCount=100):\n",
    "    # This function returns the size of the group with the maximum box\n",
    "    \n",
    "    numbers = list(range(1,prisonerCount+1))\n",
    "    random.shuffle(numbers)\n",
    "    groupsCount = []\n",
    "    tempList = []\n",
    "    sz = prisonerCount\n",
    "    tempList = list(range(1,sz+1))\n",
    "    for i in range(1,sz+1):\n",
    "        if tempList[i-1] == 0: # if marked 0, this prisoner belongs to an existing group. So skip\n",
    "            continue\n",
    "        \n",
    "        n = numbers[i-1]\n",
    "        tempList[n-1] = 0    # mark prisoner number that has been encountered as 0\n",
    "        counter = 0\n",
    "        while not(n == i):   # keep checking as long as current prisoner 'i' has not found their number\n",
    "            counter += 1\n",
    "            n = numbers[n-1]\n",
    "            tempList[n-1] = 0    # mark prisoner number that has been encountered as 0\n",
    "            \n",
    "        groupsCount.append(counter)\n",
    "    return max(groupsCount)\n",
    "\n",
    "\n",
    "def computeProbability(noTrial, prisonerCount=100):\n",
    "    # This function calculates the probability that the maximum group size is NOT GREATER THAN half the number of boxes.\n",
    "    # For example, if prisonerCount equals 100, we want to know the probability of encountering a situation where\n",
    "    # no group has more than 50 boxes\n",
    "    # This method is based on Monte Carlo simulation\n",
    "    \n",
    "    counter = 0\n",
    "    half = prisonerCount//2\n",
    "    for i in range(noTrial):\n",
    "        if getMaxGroupSize(prisonerCount) <= half:\n",
    "            counter += 1\n",
    "    \n",
    "    return counter/noTrial\n"
   ]
  },
  {
   "cell_type": "code",
   "execution_count": 7,
   "metadata": {},
   "outputs": [
    {
     "name": "stdout",
     "output_type": "stream",
     "text": [
      "Probability of prisoners escaping:  0.33013\n"
     ]
    }
   ],
   "source": [
    "noTrial = 100000\n",
    "prob = computeProbability(noTrial)\n",
    "print(\"Probability of prisoners escaping: \", prob)"
   ]
  }
 ],
 "metadata": {
  "kernelspec": {
   "display_name": "Python 3",
   "language": "python",
   "name": "python3"
  },
  "language_info": {
   "codemirror_mode": {
    "name": "ipython",
    "version": 3
   },
   "file_extension": ".py",
   "mimetype": "text/x-python",
   "name": "python",
   "nbconvert_exporter": "python",
   "pygments_lexer": "ipython3",
   "version": "3.8.5"
  }
 },
 "nbformat": 4,
 "nbformat_minor": 4
}
